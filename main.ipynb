{
 "cells": [
  {
   "cell_type": "code",
   "execution_count": 5,
   "metadata": {},
   "outputs": [
    {
     "name": "stdout",
     "output_type": "stream",
     "text": [
      "Playwright is working correctly!\n"
     ]
    }
   ],
   "source": [
    "import asyncio\n",
    "import nest_asyncio\n",
    "from playwright.async_api import async_playwright\n",
    "\n",
    "# Jupyter Notebook で `asyncio.run()` のエラーを回避\n",
    "nest_asyncio.apply()\n",
    "\n",
    "async def test_playwright():\n",
    "    async with async_playwright() as p:\n",
    "        browser = await p.chromium.launch()\n",
    "        print(\"Playwright is working correctly!\")\n",
    "        await browser.close()\n",
    "\n",
    "# 直接 `asyncio.run()` を使わずに動作確認\n",
    "asyncio.get_event_loop().run_until_complete(test_playwright())\n"
   ]
  },
  {
   "cell_type": "code",
   "execution_count": 37,
   "metadata": {},
   "outputs": [
    {
     "ename": "TypeError",
     "evalue": "__init__() got an unexpected keyword argument 'session_id'",
     "output_type": "error",
     "traceback": [
      "\u001b[0;31m---------------------------------------------------------------------------\u001b[0m",
      "\u001b[0;31mTypeError\u001b[0m                                 Traceback (most recent call last)",
      "Cell \u001b[0;32mIn[37], line 14\u001b[0m\n\u001b[1;32m     11\u001b[0m         \u001b[38;5;28;01masync\u001b[39;00m \u001b[38;5;28;01mfor\u001b[39;00m video \u001b[38;5;129;01min\u001b[39;00m videos:\n\u001b[1;32m     12\u001b[0m             \u001b[38;5;28mprint\u001b[39m(\u001b[38;5;124mf\u001b[39m\u001b[38;5;124m\"\u001b[39m\u001b[38;5;124mVideo ID: \u001b[39m\u001b[38;5;132;01m{\u001b[39;00mvideo\u001b[38;5;241m.\u001b[39mid\u001b[38;5;132;01m}\u001b[39;00m\u001b[38;5;124m, Likes: \u001b[39m\u001b[38;5;132;01m{\u001b[39;00mvideo\u001b[38;5;241m.\u001b[39mstats[\u001b[38;5;124m'\u001b[39m\u001b[38;5;124mdiggCount\u001b[39m\u001b[38;5;124m'\u001b[39m]\u001b[38;5;132;01m}\u001b[39;00m\u001b[38;5;124m\"\u001b[39m)\n\u001b[0;32m---> 14\u001b[0m \u001b[43masyncio\u001b[49m\u001b[38;5;241;43m.\u001b[39;49m\u001b[43mrun\u001b[49m\u001b[43m(\u001b[49m\u001b[43mfetch_tiktok_videos\u001b[49m\u001b[43m(\u001b[49m\u001b[43m)\u001b[49m\u001b[43m)\u001b[49m\n",
      "File \u001b[0;32m/usr/local/lib/python3.9/site-packages/nest_asyncio.py:30\u001b[0m, in \u001b[0;36m_patch_asyncio.<locals>.run\u001b[0;34m(main, debug)\u001b[0m\n\u001b[1;32m     28\u001b[0m task \u001b[38;5;241m=\u001b[39m asyncio\u001b[38;5;241m.\u001b[39mensure_future(main)\n\u001b[1;32m     29\u001b[0m \u001b[38;5;28;01mtry\u001b[39;00m:\n\u001b[0;32m---> 30\u001b[0m     \u001b[38;5;28;01mreturn\u001b[39;00m \u001b[43mloop\u001b[49m\u001b[38;5;241;43m.\u001b[39;49m\u001b[43mrun_until_complete\u001b[49m\u001b[43m(\u001b[49m\u001b[43mtask\u001b[49m\u001b[43m)\u001b[49m\n\u001b[1;32m     31\u001b[0m \u001b[38;5;28;01mfinally\u001b[39;00m:\n\u001b[1;32m     32\u001b[0m     \u001b[38;5;28;01mif\u001b[39;00m \u001b[38;5;129;01mnot\u001b[39;00m task\u001b[38;5;241m.\u001b[39mdone():\n",
      "File \u001b[0;32m/usr/local/lib/python3.9/site-packages/nest_asyncio.py:98\u001b[0m, in \u001b[0;36m_patch_loop.<locals>.run_until_complete\u001b[0;34m(self, future)\u001b[0m\n\u001b[1;32m     95\u001b[0m \u001b[38;5;28;01mif\u001b[39;00m \u001b[38;5;129;01mnot\u001b[39;00m f\u001b[38;5;241m.\u001b[39mdone():\n\u001b[1;32m     96\u001b[0m     \u001b[38;5;28;01mraise\u001b[39;00m \u001b[38;5;167;01mRuntimeError\u001b[39;00m(\n\u001b[1;32m     97\u001b[0m         \u001b[38;5;124m'\u001b[39m\u001b[38;5;124mEvent loop stopped before Future completed.\u001b[39m\u001b[38;5;124m'\u001b[39m)\n\u001b[0;32m---> 98\u001b[0m \u001b[38;5;28;01mreturn\u001b[39;00m \u001b[43mf\u001b[49m\u001b[38;5;241;43m.\u001b[39;49m\u001b[43mresult\u001b[49m\u001b[43m(\u001b[49m\u001b[43m)\u001b[49m\n",
      "File \u001b[0;32m/usr/local/lib/python3.9/asyncio/futures.py:201\u001b[0m, in \u001b[0;36mFuture.result\u001b[0;34m(self)\u001b[0m\n\u001b[1;32m    199\u001b[0m \u001b[38;5;28mself\u001b[39m\u001b[38;5;241m.\u001b[39m__log_traceback \u001b[38;5;241m=\u001b[39m \u001b[38;5;28;01mFalse\u001b[39;00m\n\u001b[1;32m    200\u001b[0m \u001b[38;5;28;01mif\u001b[39;00m \u001b[38;5;28mself\u001b[39m\u001b[38;5;241m.\u001b[39m_exception \u001b[38;5;129;01mis\u001b[39;00m \u001b[38;5;129;01mnot\u001b[39;00m \u001b[38;5;28;01mNone\u001b[39;00m:\n\u001b[0;32m--> 201\u001b[0m     \u001b[38;5;28;01mraise\u001b[39;00m \u001b[38;5;28mself\u001b[39m\u001b[38;5;241m.\u001b[39m_exception\n\u001b[1;32m    202\u001b[0m \u001b[38;5;28;01mreturn\u001b[39;00m \u001b[38;5;28mself\u001b[39m\u001b[38;5;241m.\u001b[39m_result\n",
      "File \u001b[0;32m/usr/local/lib/python3.9/asyncio/tasks.py:256\u001b[0m, in \u001b[0;36mTask.__step\u001b[0;34m(***failed resolving arguments***)\u001b[0m\n\u001b[1;32m    252\u001b[0m \u001b[38;5;28;01mtry\u001b[39;00m:\n\u001b[1;32m    253\u001b[0m     \u001b[38;5;28;01mif\u001b[39;00m exc \u001b[38;5;129;01mis\u001b[39;00m \u001b[38;5;28;01mNone\u001b[39;00m:\n\u001b[1;32m    254\u001b[0m         \u001b[38;5;66;03m# We use the `send` method directly, because coroutines\u001b[39;00m\n\u001b[1;32m    255\u001b[0m         \u001b[38;5;66;03m# don't have `__iter__` and `__next__` methods.\u001b[39;00m\n\u001b[0;32m--> 256\u001b[0m         result \u001b[38;5;241m=\u001b[39m \u001b[43mcoro\u001b[49m\u001b[38;5;241;43m.\u001b[39;49m\u001b[43msend\u001b[49m\u001b[43m(\u001b[49m\u001b[38;5;28;43;01mNone\u001b[39;49;00m\u001b[43m)\u001b[49m\n\u001b[1;32m    257\u001b[0m     \u001b[38;5;28;01melse\u001b[39;00m:\n\u001b[1;32m    258\u001b[0m         result \u001b[38;5;241m=\u001b[39m coro\u001b[38;5;241m.\u001b[39mthrow(exc)\n",
      "Cell \u001b[0;32mIn[37], line 5\u001b[0m, in \u001b[0;36mfetch_tiktok_videos\u001b[0;34m()\u001b[0m\n\u001b[1;32m      4\u001b[0m \u001b[38;5;28;01masync\u001b[39;00m \u001b[38;5;28;01mdef\u001b[39;00m\u001b[38;5;250m \u001b[39m\u001b[38;5;21mfetch_tiktok_videos\u001b[39m():\n\u001b[0;32m----> 5\u001b[0m     \u001b[38;5;28;01masync\u001b[39;00m \u001b[38;5;28;01mwith\u001b[39;00m \u001b[43mTikTokApi\u001b[49m\u001b[43m(\u001b[49m\u001b[43msession_id\u001b[49m\u001b[38;5;241;43m=\u001b[39;49m\u001b[38;5;124;43m\"\u001b[39;49m\u001b[38;5;124;43mverify_m7nbzp87_hEwzHL08_GI7E_4pYF_ARcR_jOoFxcjMB0Je\u001b[39;49m\u001b[38;5;124;43m\"\u001b[39;49m\u001b[43m)\u001b[49m \u001b[38;5;28;01mas\u001b[39;00m api:\n\u001b[1;32m      6\u001b[0m         hashtag_name \u001b[38;5;241m=\u001b[39m \u001b[38;5;124m\"\u001b[39m\u001b[38;5;124mfashion\u001b[39m\u001b[38;5;124m\"\u001b[39m\n\u001b[1;32m      7\u001b[0m         tag \u001b[38;5;241m=\u001b[39m api\u001b[38;5;241m.\u001b[39mhashtag(name\u001b[38;5;241m=\u001b[39mhashtag_name)\n",
      "\u001b[0;31mTypeError\u001b[0m: __init__() got an unexpected keyword argument 'session_id'"
     ]
    }
   ],
   "source": [
    "import asyncio\n",
    "from TikTokApi import TikTokApi\n",
    "\n",
    "async def fetch_tiktok_videos():\n",
    "    async with TikTokApi(session_id=\"verify_m7nbzp87_hEwzHL08_GI7E_4pYF_ARcR_jOoFxcjMB0Je\") as api:\n",
    "        hashtag_name = \"fashion\"\n",
    "        tag = api.hashtag(name=hashtag_name)\n",
    "\n",
    "        videos = tag.videos(count=5)  # 5件の動画を取得\n",
    "\n",
    "        async for video in videos:\n",
    "            print(f\"Video ID: {video.id}, Likes: {video.stats['diggCount']}\")\n",
    "\n",
    "asyncio.run(fetch_tiktok_videos())\n",
    "\n"
   ]
  },
  {
   "cell_type": "code",
   "execution_count": 16,
   "metadata": {},
   "outputs": [
    {
     "ename": "AttributeError",
     "evalue": "'TikTokApi' object has no attribute 'session'",
     "output_type": "error",
     "traceback": [
      "\u001b[0;31m---------------------------------------------------------------------------\u001b[0m",
      "\u001b[0;31mAttributeError\u001b[0m                            Traceback (most recent call last)",
      "Cell \u001b[0;32mIn[16], line 18\u001b[0m\n\u001b[1;32m     15\u001b[0m     \u001b[38;5;28;01mfor\u001b[39;00m video \u001b[38;5;129;01min\u001b[39;00m videos:\n\u001b[1;32m     16\u001b[0m         \u001b[38;5;28mprint\u001b[39m(\u001b[38;5;124mf\u001b[39m\u001b[38;5;124m\"\u001b[39m\u001b[38;5;124mVideo ID: \u001b[39m\u001b[38;5;132;01m{\u001b[39;00mvideo[\u001b[38;5;124m'\u001b[39m\u001b[38;5;124mid\u001b[39m\u001b[38;5;124m'\u001b[39m]\u001b[38;5;132;01m}\u001b[39;00m\u001b[38;5;124m, Likes: \u001b[39m\u001b[38;5;132;01m{\u001b[39;00mvideo[\u001b[38;5;124m'\u001b[39m\u001b[38;5;124mstats\u001b[39m\u001b[38;5;124m'\u001b[39m][\u001b[38;5;124m'\u001b[39m\u001b[38;5;124mdiggCount\u001b[39m\u001b[38;5;124m'\u001b[39m]\u001b[38;5;132;01m}\u001b[39;00m\u001b[38;5;124m\"\u001b[39m)\n\u001b[0;32m---> 18\u001b[0m \u001b[43mfetch_tiktok_user_videos\u001b[49m\u001b[43m(\u001b[49m\u001b[43m)\u001b[49m\n",
      "Cell \u001b[0;32mIn[16], line 8\u001b[0m, in \u001b[0;36mfetch_tiktok_user_videos\u001b[0;34m()\u001b[0m\n\u001b[1;32m      6\u001b[0m \u001b[38;5;28;01mdef\u001b[39;00m\u001b[38;5;250m \u001b[39m\u001b[38;5;21mfetch_tiktok_user_videos\u001b[39m():\n\u001b[1;32m      7\u001b[0m     api \u001b[38;5;241m=\u001b[39m TikTokApi()  \u001b[38;5;66;03m# `5.2.2` では `session_id` を `__init__()` に渡さない\u001b[39;00m\n\u001b[0;32m----> 8\u001b[0m     \u001b[43mapi\u001b[49m\u001b[38;5;241;43m.\u001b[39;49m\u001b[43msession\u001b[49m\u001b[38;5;241m.\u001b[39mcookies\u001b[38;5;241m.\u001b[39mset(\u001b[38;5;124m\"\u001b[39m\u001b[38;5;124msessionid\u001b[39m\u001b[38;5;124m\"\u001b[39m, SESSION_ID)  \u001b[38;5;66;03m# `session_id` をセット\u001b[39;00m\n\u001b[1;32m     10\u001b[0m     username \u001b[38;5;241m=\u001b[39m \u001b[38;5;124m\"\u001b[39m\u001b[38;5;124mtiktok\u001b[39m\u001b[38;5;124m\"\u001b[39m  \u001b[38;5;66;03m# 取得したいユーザー名\u001b[39;00m\n\u001b[1;32m     11\u001b[0m     user \u001b[38;5;241m=\u001b[39m api\u001b[38;5;241m.\u001b[39muser(username\u001b[38;5;241m=\u001b[39musername)\n",
      "\u001b[0;31mAttributeError\u001b[0m: 'TikTokApi' object has no attribute 'session'"
     ]
    }
   ],
   "source": [
    "from TikTokApi import TikTokApi\n",
    "\n",
    "# session_id を設定\n",
    "SESSION_ID = \"84ac2af4bda2b4ec06f19c939e96b55c\"\n",
    "\n",
    "def fetch_tiktok_user_videos():\n",
    "    api = TikTokApi()  # `5.2.2` では `session_id` を `__init__()` に渡さない\n",
    "    api.session.cookies.set(\"sessionid\", SESSION_ID)  # `session_id` をセット\n",
    "\n",
    "    username = \"tiktok\"  # 取得したいユーザー名\n",
    "    user = api.user(username=username)\n",
    "\n",
    "    videos = user.videos(count=5)  # 5件の動画を取得\n",
    "\n",
    "    for video in videos:\n",
    "        print(f\"Video ID: {video['id']}, Likes: {video['stats']['diggCount']}\")\n",
    "\n",
    "fetch_tiktok_user_videos()\n"
   ]
  },
  {
   "cell_type": "code",
   "execution_count": 38,
   "metadata": {},
   "outputs": [
    {
     "name": "stdout",
     "output_type": "stream",
     "text": [
      "Navigating to: https://www.tiktok.com/tag/古着?lang=ja-JP\n",
      "Found 0 video elements.\n"
     ]
    }
   ],
   "source": [
    "import asyncio\n",
    "from playwright.async_api import async_playwright\n",
    "\n",
    "async def scrape_tiktok_hashtag(hashtag: str):\n",
    "    async with async_playwright() as p:\n",
    "        # ヘッドレスブラウザを起動\n",
    "        browser = await p.chromium.launch(headless=True)\n",
    "        # 日本語向けの設定を追加\n",
    "        context = await browser.new_context(\n",
    "            user_agent=\"Mozilla/5.0 (Windows NT 10.0; Win64; x64) AppleWebKit/537.36 (KHTML, like Gecko) Chrome/115.0.0.0 Safari/537.36\",\n",
    "            viewport={\"width\": 1280, \"height\": 720},\n",
    "            locale=\"ja-JP\",\n",
    "            extra_http_headers={\"Accept-Language\": \"ja-JP,ja;q=0.9\"}\n",
    "        )\n",
    "        page = await context.new_page()\n",
    "        \n",
    "        # URLに言語パラメータを追加\n",
    "        url = f\"https://www.tiktok.com/tag/{hashtag}?lang=ja-JP\"\n",
    "        print(\"Navigating to:\", url)\n",
    "        await page.goto(url, wait_until=\"networkidle\")\n",
    "        \n",
    "        # ページ上のCookie同意などのポップアップがあれば処理（必要ならクリック）\n",
    "        # 例: await page.click(\"button[aria-label='同意する']\")\n",
    "        \n",
    "        # 十分に待機して動画が読み込まれるのを待つ\n",
    "        await asyncio.sleep(10)\n",
    "        \n",
    "        # 複数回スクロールして無限スクロールのコンテンツをロード\n",
    "        for _ in range(3):\n",
    "            await page.evaluate(\"window.scrollTo(0, document.body.scrollHeight)\")\n",
    "            await asyncio.sleep(3)\n",
    "        \n",
    "        # 動画リンクを含む要素を抽出（セレクタは必要に応じて調整）\n",
    "        video_elements = await page.query_selector_all(\"a[href*='/video/']\")\n",
    "        print(f\"Found {len(video_elements)} video elements.\")\n",
    "        \n",
    "        for video in video_elements:\n",
    "            video_link = await video.get_attribute(\"href\")\n",
    "            print(\"動画リンク:\", video_link)\n",
    "        \n",
    "        await browser.close()\n",
    "\n",
    "asyncio.run(scrape_tiktok_hashtag(\"古着\"))\n",
    "\n"
   ]
  },
  {
   "cell_type": "code",
   "execution_count": 36,
   "metadata": {},
   "outputs": [
    {
     "ename": "AttributeError",
     "evalue": "type object 'TikTokApi' has no attribute 'get_instance'",
     "output_type": "error",
     "traceback": [
      "\u001b[0;31m---------------------------------------------------------------------------\u001b[0m",
      "\u001b[0;31mAttributeError\u001b[0m                            Traceback (most recent call last)",
      "Cell \u001b[0;32mIn[36], line 4\u001b[0m\n\u001b[1;32m      2\u001b[0m \u001b[38;5;66;03m# s_v_web_idをverifyFpに入れる\u001b[39;00m\n\u001b[1;32m      3\u001b[0m verifyFp\u001b[38;5;241m=\u001b[39m\u001b[38;5;124m'\u001b[39m\u001b[38;5;124mverify_m7nbzp87_hEwzHL08_GI7E_4pYF_ARcR_jOoFxcjMB0Je\u001b[39m\u001b[38;5;124m'\u001b[39m\n\u001b[0;32m----> 4\u001b[0m api \u001b[38;5;241m=\u001b[39m \u001b[43mTikTokApi\u001b[49m\u001b[38;5;241;43m.\u001b[39;49m\u001b[43mget_instance\u001b[49m(custom_verifyFp\u001b[38;5;241m=\u001b[39mverifyFp, use_test_endpoints\u001b[38;5;241m=\u001b[39m\u001b[38;5;28;01mTrue\u001b[39;00m)\n\u001b[1;32m      6\u001b[0m \u001b[38;5;66;03m# 取得数\u001b[39;00m\n\u001b[1;32m      7\u001b[0m count \u001b[38;5;241m=\u001b[39m \u001b[38;5;241m1\u001b[39m\n",
      "\u001b[0;31mAttributeError\u001b[0m: type object 'TikTokApi' has no attribute 'get_instance'"
     ]
    }
   ],
   "source": [
    "\n",
    "\n",
    "from TikTokApi import TikTokApi\n",
    "# s_v_web_idをverifyFpに入れる\n",
    "verifyFp='verify_m7nbzp87_hEwzHL08_GI7E_4pYF_ARcR_jOoFxcjMB0Je'\n",
    "api = TikTokApi.get_instance(custom_verifyFp=verifyFp, use_test_endpoints=True)\n",
    "\n",
    "# 取得数\n",
    "count = 1\n",
    "# ハッシュタグ\n",
    "hashtag = '古着'\n",
    "result = api.by_hashtag(count=count, hashtag=hashtag)\n",
    "\n",
    "for t in result:\n",
    "    print('----------------------------------')\n",
    "    print('ユーザーID : ' + t['author']['uniqueId'])\n",
    "    print('ユーザー名　: ' + t['author']['nickname'])\n",
    "    print('----------------------------------')"
   ]
  },
  {
   "cell_type": "code",
   "execution_count": null,
   "metadata": {},
   "outputs": [],
   "source": []
  },
  {
   "cell_type": "code",
   "execution_count": null,
   "metadata": {},
   "outputs": [],
   "source": []
  }
 ],
 "metadata": {
  "kernelspec": {
   "display_name": "Python 3",
   "language": "python",
   "name": "python3"
  },
  "language_info": {
   "codemirror_mode": {
    "name": "ipython",
    "version": 3
   },
   "file_extension": ".py",
   "mimetype": "text/x-python",
   "name": "python",
   "nbconvert_exporter": "python",
   "pygments_lexer": "ipython3",
   "version": "3.13.1"
  }
 },
 "nbformat": 4,
 "nbformat_minor": 2
}
