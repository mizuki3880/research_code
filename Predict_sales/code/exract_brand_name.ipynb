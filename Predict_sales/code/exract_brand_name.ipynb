{
 "cells": [
  {
   "cell_type": "code",
   "execution_count": 7,
   "id": "bfb7108e",
   "metadata": {},
   "outputs": [
    {
     "name": "stdout",
     "output_type": "stream",
     "text": [
      "900 件のブランド名を保存しました。\n"
     ]
    }
   ],
   "source": [
    "import requests\n",
    "from bs4 import BeautifulSoup\n",
    "import csv\n",
    "\n",
    "# ブランド一覧ページのURL\n",
    "url = 'https://www.fashion-press.net/brands'\n",
    "\n",
    "# User-Agent を指定してアクセス\n",
    "headers = {\n",
    "    'User-Agent': 'Mozilla/5.0 (Windows NT 10.0; Win64; x64) AppleWebKit/537.36 (KHTML, like Gecko) Chrome/122.0.0.0 Safari/537.36'\n",
    "}\n",
    "response = requests.get(url, headers=headers)\n",
    "response.encoding = 'utf-8'\n",
    "\n",
    "# レスポンスのHTMLを解析\n",
    "soup = BeautifulSoup(response.text, 'html.parser')\n",
    "\n",
    "# ブランド名を格納するリスト\n",
    "brand_names = []\n",
    "\n",
    "# <div class=\"initial_index_result\"> 内のすべての <ul> 要素を取得\n",
    "for section in soup.find_all('div', class_='initial_index_result'):\n",
    "    for ul in section.find_all('ul'):\n",
    "        for li in ul.find_all('li'):\n",
    "            a_tag = li.find('a')\n",
    "            if a_tag:\n",
    "                brand_name = a_tag.get_text(strip=True)\n",
    "                brand_names.append(brand_name)\n",
    "\n",
    "# 抽出したブランド名をCSVファイルに保存\n",
    "with open('brand_names.csv', 'w', newline='', encoding='utf-8') as csvfile:\n",
    "    writer = csv.writer(csvfile)\n",
    "    for name in brand_names:\n",
    "        writer.writerow([name])\n",
    "\n",
    "print(f'{len(brand_names)} 件のブランド名を保存しました。')\n"
   ]
  },
  {
   "cell_type": "code",
   "execution_count": 9,
   "id": "1d62eb7c",
   "metadata": {},
   "outputs": [
    {
     "name": "stdout",
     "output_type": "stream",
     "text": [
      "2763 件のブランド名を保存しました。\n"
     ]
    }
   ],
   "source": [
    "import requests\n",
    "from bs4 import BeautifulSoup\n",
    "import csv\n",
    "\n",
    "# ブランド一覧ページのURL\n",
    "url = 'https://brandavenue.rakuten.co.jp/brandlist/'\n",
    "\n",
    "# HTTPリクエストを送信\n",
    "headers = {\n",
    "    'User-Agent': 'Mozilla/5.0 (Windows NT 10.0; Win64; x64)'\n",
    "}\n",
    "response = requests.get(url, headers=headers)\n",
    "response.encoding = 'utf-8'\n",
    "\n",
    "# レスポンスのHTMLを解析\n",
    "soup = BeautifulSoup(response.text, 'html.parser')\n",
    "\n",
    "# ブランド名を格納するリスト\n",
    "brand_names = []\n",
    "\n",
    "# ブランド名が含まれる要素を抽出\n",
    "for li in soup.find_all('li', class_='maker-list--2m5me'):\n",
    "    a_tag = li.find('a', class_='maker-name--2xEBo')\n",
    "    if a_tag:\n",
    "        brand_name = a_tag.get_text(strip=True)\n",
    "        brand_names.append(brand_name)\n",
    "\n",
    "# 抽出したブランド名をCSVファイルに保存\n",
    "with open('brand_names.csv', 'w', newline='', encoding='utf-8') as csvfile:\n",
    "    writer = csv.writer(csvfile)\n",
    "    for name in brand_names:\n",
    "        writer.writerow([name])\n",
    "\n",
    "print(f'{len(brand_names)} 件のブランド名を保存しました。')\n"
   ]
  },
  {
   "cell_type": "code",
   "execution_count": null,
   "id": "43c6ccf9",
   "metadata": {},
   "outputs": [],
   "source": []
  }
 ],
 "metadata": {
  "kernelspec": {
   "display_name": "Python 3",
   "language": "python",
   "name": "python3"
  },
  "language_info": {
   "codemirror_mode": {
    "name": "ipython",
    "version": 3
   },
   "file_extension": ".py",
   "mimetype": "text/x-python",
   "name": "python",
   "nbconvert_exporter": "python",
   "pygments_lexer": "ipython3",
   "version": "3.10.17"
  }
 },
 "nbformat": 4,
 "nbformat_minor": 5
}
